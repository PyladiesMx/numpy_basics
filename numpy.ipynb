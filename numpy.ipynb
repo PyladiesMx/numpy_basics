{
 "cells": [
  {
   "cell_type": "markdown",
   "metadata": {},
   "source": [
    "# Numpy and Python Basics\n",
    "\n",
    "Hello Everyone! My Name is Erika Peláez and I'm going to talk a little bit about Python, Numpy and why it was important to the Pytorch Challenge.\n",
    "\n",
    "### In the beginning there was only Python...\n",
    "\n",
    "<center><img src='pyastro_logo.svg' width=180></center>\n",
    "\n",
    "As you might already know, Python is a high-level programming language that has gain a lot of followers in the scientific and data science comunity due to the faily simple syntax, all of the batteries that includes and the third part libraries that we all use and love. One of this famous and ubiquitous libraries is **Numpy**.\n",
    "\n",
    "There is a lot of resources for learning Python and there's actually [courses from udacity](https://www.udacity.com/course/introduction-to-python--ud1110) that can help you get your Python to the next level. If you already know how to program and are familiar with the object oriented paradigm you could actually just check out the site [learn x in y minutes](https://learnxinyminutes.com/docs/python3/) where x is python 3.x so you can basically see what the syntax is about.\n",
    "\n",
    "For the purposes of this course you will also have to be familiar with libraries such as numpy, however the level that you have to have with numpy is not of an expert user, if we just go over some of the basic operations and concepts from numpy we can successfully complete lesson 2 of the challenge\n",
    "\n",
    "### What is Numpy about?\n",
    "\n",
    "In a nutshell, numpy is a library that offers the ability to compute over arrays and matrices. It also happens to have implementations of mathematical functions commonly used in scientific computing. Lets begin by importing Numpy."
   ]
  },
  {
   "cell_type": "code",
   "execution_count": 1,
   "metadata": {},
   "outputs": [],
   "source": [
    "#Let's import numpy\n",
    "#Because we're too lazy to write numpy everytime we'll give it an alias \"np\"\n",
    "\n",
    "import numpy as np"
   ]
  },
  {
   "cell_type": "markdown",
   "metadata": {},
   "source": [
    "Now that we have numpy imported we can start playing with \"vectors and matrices\". We will use this terms from now on to remind us that we are going to perform linear algebra operations altough we have to keep in mind that they are strictly arrays with different *ranks*.\n",
    "\n",
    "Let's first create some vectors"
   ]
  },
  {
   "cell_type": "code",
   "execution_count": 12,
   "metadata": {},
   "outputs": [],
   "source": [
    "#from a python list\n",
    "vector_list = np.array([1, 2, 3])\n",
    "#an all zero array\n",
    "vector_zero = np.zeros(3)\n",
    "#an all ones array\n",
    "vector_ones = np.ones(3)\n",
    "#from a range of numbers from 0 to 9 with step 2\n",
    "vector_range = np.arange(0,9,2)"
   ]
  },
  {
   "cell_type": "markdown",
   "metadata": {},
   "source": [
    "Let's examine the properties of our vectors"
   ]
  },
  {
   "cell_type": "code",
   "execution_count": 18,
   "metadata": {},
   "outputs": [
    {
     "name": "stdout",
     "output_type": "stream",
     "text": [
      "(3,)\n",
      "3\n",
      "int64\n"
     ]
    }
   ],
   "source": [
    "#Get the dimensions of the vector in this case is 3\n",
    "print(vector_list.shape)\n",
    "#Get the size of the vector, how many elements there are\n",
    "print(vector_list.size)\n",
    "#Whats the type of object it contains\n",
    "print(vector_list.dtype)"
   ]
  },
  {
   "cell_type": "markdown",
   "metadata": {},
   "source": [
    "You can check the properties of the rest of the created vectors as an exercise"
   ]
  },
  {
   "cell_type": "code",
   "execution_count": null,
   "metadata": {},
   "outputs": [],
   "source": []
  },
  {
   "cell_type": "code",
   "execution_count": null,
   "metadata": {},
   "outputs": [],
   "source": []
  },
  {
   "cell_type": "code",
   "execution_count": null,
   "metadata": {},
   "outputs": [],
   "source": []
  },
  {
   "cell_type": "markdown",
   "metadata": {},
   "source": [
    "Now let's add more dimensions to it. We are going to create a matrix with the three first  vectors"
   ]
  },
  {
   "cell_type": "code",
   "execution_count": 21,
   "metadata": {},
   "outputs": [
    {
     "name": "stdout",
     "output_type": "stream",
     "text": [
      "[[1. 1. 1.]\n",
      " [1. 2. 3.]\n",
      " [0. 0. 0.]]\n"
     ]
    }
   ],
   "source": [
    "matrix = np.array([vector_ones, vector_list, vector_zero])\n",
    "print(matrix)"
   ]
  },
  {
   "cell_type": "markdown",
   "metadata": {},
   "source": [
    "Do you notice anything different? Perhaps we should checkout the types in the array to find out"
   ]
  },
  {
   "cell_type": "code",
   "execution_count": 23,
   "metadata": {},
   "outputs": [
    {
     "name": "stdout",
     "output_type": "stream",
     "text": [
      "int64\n",
      "float64\n"
     ]
    }
   ],
   "source": [
    "print(vector_list.dtype)\n",
    "print(matrix.dtype)"
   ]
  },
  {
   "cell_type": "markdown",
   "metadata": {},
   "source": [
    "As you can see the type of the vector was cast as float as a consequence of being bundled up togheter with the other float type vectors. This happens because every numpy array **has** to have the same data types within itself.\n",
    "\n",
    "### Basic operations with numpy\n",
    "\n",
    "All the arithmetic operations in numpy are performed *element wise* and the result of that is contained in a new array."
   ]
  },
  {
   "cell_type": "markdown",
   "metadata": {},
   "source": [
    "#### Operations between two vectors"
   ]
  },
  {
   "cell_type": "code",
   "execution_count": 24,
   "metadata": {},
   "outputs": [
    {
     "data": {
      "text/plain": [
       "array([2., 3., 4.])"
      ]
     },
     "execution_count": 24,
     "metadata": {},
     "output_type": "execute_result"
    }
   ],
   "source": [
    "vector_list + vector_ones"
   ]
  },
  {
   "cell_type": "code",
   "execution_count": 26,
   "metadata": {},
   "outputs": [
    {
     "data": {
      "text/plain": [
       "array([-1., -1., -1.])"
      ]
     },
     "execution_count": 26,
     "metadata": {},
     "output_type": "execute_result"
    }
   ],
   "source": [
    "vector_zero - vector_ones"
   ]
  },
  {
   "cell_type": "markdown",
   "metadata": {},
   "source": [
    "#### Operations with one scalar and one vector"
   ]
  },
  {
   "cell_type": "code",
   "execution_count": 33,
   "metadata": {},
   "outputs": [
    {
     "data": {
      "text/plain": [
       "array([3., 3., 3.])"
      ]
     },
     "execution_count": 33,
     "metadata": {},
     "output_type": "execute_result"
    }
   ],
   "source": [
    "vector_zero + 3"
   ]
  },
  {
   "cell_type": "code",
   "execution_count": 34,
   "metadata": {},
   "outputs": [
    {
     "data": {
      "text/plain": [
       "array([0.5, 1. , 1.5])"
      ]
     },
     "execution_count": 34,
     "metadata": {},
     "output_type": "execute_result"
    }
   ],
   "source": [
    "vector_list/(vector_zero + 2)"
   ]
  },
  {
   "cell_type": "markdown",
   "metadata": {},
   "source": [
    "Now see what happens when the shapes of two vectos don't match"
   ]
  },
  {
   "cell_type": "code",
   "execution_count": 27,
   "metadata": {},
   "outputs": [
    {
     "ename": "ValueError",
     "evalue": "operands could not be broadcast together with shapes (3,) (5,) ",
     "output_type": "error",
     "traceback": [
      "\u001b[0;31m---------------------------------------------------------------------------\u001b[0m",
      "\u001b[0;31mValueError\u001b[0m                                Traceback (most recent call last)",
      "\u001b[0;32m<ipython-input-27-fc94b34de70f>\u001b[0m in \u001b[0;36m<module>\u001b[0;34m()\u001b[0m\n\u001b[1;32m      1\u001b[0m \u001b[0;31m#Qué pasa si tenemos diferentes dimensiones\u001b[0m\u001b[0;34m\u001b[0m\u001b[0;34m\u001b[0m\u001b[0;34m\u001b[0m\u001b[0m\n\u001b[0;32m----> 2\u001b[0;31m \u001b[0mvector_list\u001b[0m \u001b[0;34m*\u001b[0m \u001b[0mvector_range\u001b[0m\u001b[0;34m\u001b[0m\u001b[0;34m\u001b[0m\u001b[0m\n\u001b[0m",
      "\u001b[0;31mValueError\u001b[0m: operands could not be broadcast together with shapes (3,) (5,) "
     ]
    }
   ],
   "source": [
    "#What happens if we have different dimensions in the two vectors (ValueError)\n",
    "vector_list * vector_range"
   ]
  },
  {
   "cell_type": "markdown",
   "metadata": {},
   "source": [
    "#### Operations between matrices and vectors"
   ]
  },
  {
   "cell_type": "code",
   "execution_count": 40,
   "metadata": {},
   "outputs": [
    {
     "name": "stdout",
     "output_type": "stream",
     "text": [
      "vector from list:\n",
      "[1 2 3]\n",
      "matrix:\n",
      "[[1. 1. 1.]\n",
      " [1. 2. 3.]\n",
      " [0. 0. 0.]]\n",
      "product:\n",
      "[[1. 2. 3.]\n",
      " [1. 4. 9.]\n",
      " [0. 0. 0.]]\n"
     ]
    }
   ],
   "source": [
    "print(f'vector from list:\\n{vector_list}')\n",
    "print(f'matrix:\\n{matrix}')\n",
    "print(f'product:\\n{vector_list*matrix}')"
   ]
  },
  {
   "cell_type": "markdown",
   "metadata": {},
   "source": [
    "Do you notice something off with this? Normally in linear algebra whenever we multiply a vector and a matrix we get a vector as a result like so:\n",
    "\n",
    "<center><img src='https://keisan.casio.com/has10/mimetex.cgi?%5Chspace{30}Ax=c%5C%5C%5Cvspace{5}%3Cbr%20/%3E%5Cnormal{%5Cleft[%5Cbegin{array}%5Cvspace{10}%20a_{%5Csmall%2011}&%20%5Ccdots&%20a_{%5Csmall%201j}%5C%5C%5Cvspace{10}%20a_{%5Csmall%2021}&%20%5Ccdots&%20a_{%5Csmall%202j}%5Cvspace{20}%5C%5C%20%5Cvdots&%20%5Cddots&%20%5Cvdots%5Cvspace{10}%5C%5Ca_{%5Csmall%20i1}&%20%5Ccdots&%20a_{%5Csmall%20ij}%5C%5C%5Cend{array}%5Cright]}%20%3Cbr%20/%3E%5Cnormal{%5Cleft(%5Cbegin{array}%5Cvspace{10}%20x_1%5C%5C%5Cvspace{10}%20x_2%5Cvspace{20}%5C%5C%5Cvdots%5C%5Cx_j%5C%5C%5Cend{array}%5Cright)}%3Cbr%20/%3E=%5Cnormal{%5Cleft(%5Cbegin{array}%5Cvspace{10}%20%5Csum%20a_{1j}x_j%5C%5C%5Cvspace{10}%20%5Csum%20a_{2j}x_j%5Cvspace{20}%5C%5C%5Cvdots%5C%5C%5Csum%20a_{ij}x_j%5C%5C%5Cend{array}%5Cright)}%5C%5C%3Cbr%20/%3E'></center>\n",
    "\n",
    "In this case numpy is calculating the Hadamard product which follows the *element wise* phylosophy of numpy.\n",
    "\n",
    "If you can't remember your linear algebra classes and you want to quickly brush up you can find a \"cheat sheet\" of linear algebra for Deep Learning [here](https://towardsdatascience.com/linear-algebra-cheat-sheet-for-deep-learning-cd67aba4526c)"
   ]
  },
  {
   "cell_type": "markdown",
   "metadata": {},
   "source": [
    "If you want to achieve the \"dot\" product you should use any of the options below. "
   ]
  },
  {
   "cell_type": "code",
   "execution_count": 29,
   "metadata": {},
   "outputs": [
    {
     "data": {
      "text/plain": [
       "6.0"
      ]
     },
     "execution_count": 29,
     "metadata": {},
     "output_type": "execute_result"
    }
   ],
   "source": [
    "np.matmul(vector_list, vector_ones)"
   ]
  },
  {
   "cell_type": "code",
   "execution_count": 30,
   "metadata": {},
   "outputs": [
    {
     "data": {
      "text/plain": [
       "6.0"
      ]
     },
     "execution_count": 30,
     "metadata": {},
     "output_type": "execute_result"
    }
   ],
   "source": [
    "np.dot(vector_list, vector_ones)"
   ]
  },
  {
   "cell_type": "code",
   "execution_count": 32,
   "metadata": {},
   "outputs": [
    {
     "data": {
      "text/plain": [
       "6.0"
      ]
     },
     "execution_count": 32,
     "metadata": {},
     "output_type": "execute_result"
    }
   ],
   "source": [
    "(vector_list * vector_ones).sum()"
   ]
  },
  {
   "cell_type": "code",
   "execution_count": 41,
   "metadata": {},
   "outputs": [
    {
     "data": {
      "text/plain": [
       "array([3., 5., 7.])"
      ]
     },
     "execution_count": 41,
     "metadata": {},
     "output_type": "execute_result"
    }
   ],
   "source": [
    "np.dot(vector_list, matrix)"
   ]
  },
  {
   "cell_type": "code",
   "execution_count": 42,
   "metadata": {},
   "outputs": [
    {
     "data": {
      "text/plain": [
       "array([3., 5., 7.])"
      ]
     },
     "execution_count": 42,
     "metadata": {},
     "output_type": "execute_result"
    }
   ],
   "source": [
    "np.matmul(vector_list, matrix)"
   ]
  },
  {
   "cell_type": "code",
   "execution_count": 44,
   "metadata": {},
   "outputs": [
    {
     "data": {
      "text/plain": [
       "array([3., 5., 7.])"
      ]
     },
     "execution_count": 44,
     "metadata": {},
     "output_type": "execute_result"
    }
   ],
   "source": [
    "vector_list @ matrix"
   ]
  },
  {
   "cell_type": "markdown",
   "metadata": {},
   "source": [
    "That makes you wonder what are the differences between every method. Well `np.dot` is mostly used to calculate the dot product of vectors and can be used for scalar multiplication but it is discouraged. `np.matmul` is mainly to get the inner product of matrices and does not allow multiplication by scalars. According to the numpy documentation `np.matmul` differs from `np.dot` in two important ways.\n",
    "\n",
    ">Multiplication by scalars is not allowed.\n",
    ">\n",
    ">Stacks of matrices are broadcast together as if the matrices were elements.\n",
    "\n",
    "The `(vector_list * vector_ones).sum()` way to do it is just following the formula in the image but is recomended to use the `np.dot` function instead and the `@` operator is like `np.matmul`. \n",
    "\n",
    "If you want to now more about that you can read the documentation for [dot](https://docs.scipy.org/doc/numpy/reference/generated/numpy.dot.html#numpy.dot) and [matmul](https://docs.scipy.org/doc/numpy/reference/generated/numpy.matmul.html#numpy.matmul)\n"
   ]
  },
  {
   "cell_type": "markdown",
   "metadata": {},
   "source": [
    "#### Operations between matrices"
   ]
  },
  {
   "cell_type": "code",
   "execution_count": 48,
   "metadata": {},
   "outputs": [
    {
     "name": "stdout",
     "output_type": "stream",
     "text": [
      "[[1. 1. 1.]\n",
      " [1. 1. 1.]\n",
      " [1. 1. 1.]]\n"
     ]
    }
   ],
   "source": [
    "#Matrix of 9 elements (3x3) filled with ones\n",
    "matrix_ones = np.ones((3, 3))\n",
    "print(matrix_ones)"
   ]
  },
  {
   "cell_type": "code",
   "execution_count": 50,
   "metadata": {},
   "outputs": [
    {
     "name": "stdout",
     "output_type": "stream",
     "text": [
      "[[0 1 2]\n",
      " [3 4 5]\n",
      " [6 7 8]]\n"
     ]
    }
   ],
   "source": [
    "#Matrix created with numbers from 0 to 9 reshaped to have 3 rows by 3 columns\n",
    "matrix_range = np.arange(9).reshape((3, 3))\n",
    "print(matrix_range)"
   ]
  },
  {
   "cell_type": "code",
   "execution_count": 56,
   "metadata": {},
   "outputs": [
    {
     "name": "stdout",
     "output_type": "stream",
     "text": [
      "[[ 0.07431159 -0.06486389  0.02790005]\n",
      " [ 0.03262619  0.15215935 -0.07532998]\n",
      " [-0.17847398  0.04601822  0.21418014]]\n"
     ]
    }
   ],
   "source": [
    "#matrix of 9 random numbers with a mean of 0 and a Standard deviation of 0.1\n",
    "matrix_random = np.random.normal(0, 0.1, 9).reshape(3, 3)\n",
    "print(matrix_random)"
   ]
  },
  {
   "cell_type": "code",
   "execution_count": 57,
   "metadata": {},
   "outputs": [
    {
     "data": {
      "text/plain": [
       "array([[1., 2., 3.],\n",
       "       [4., 5., 6.],\n",
       "       [7., 8., 9.]])"
      ]
     },
     "execution_count": 57,
     "metadata": {},
     "output_type": "execute_result"
    }
   ],
   "source": [
    "matrix_ones + matrix_range"
   ]
  },
  {
   "cell_type": "code",
   "execution_count": 58,
   "metadata": {},
   "outputs": [
    {
     "data": {
      "text/plain": [
       "array([[ 0.        , -0.06486389,  0.05580011],\n",
       "       [ 0.09787858,  0.60863742, -0.3766499 ],\n",
       "       [-1.07084388,  0.32212757,  1.7134411 ]])"
      ]
     },
     "execution_count": 58,
     "metadata": {},
     "output_type": "execute_result"
    }
   ],
   "source": [
    "matrix_random * matrix_range"
   ]
  },
  {
   "cell_type": "code",
   "execution_count": 59,
   "metadata": {},
   "outputs": [
    {
     "data": {
      "text/plain": [
       "array([[-0.02719136,  0.0101564 ,  0.04750415],\n",
       "       [ 0.00449818,  0.11395375,  0.22340931],\n",
       "       [ 1.4231355 ,  1.50485988,  1.58658426]])"
      ]
     },
     "execution_count": 59,
     "metadata": {},
     "output_type": "execute_result"
    }
   ],
   "source": [
    "matrix_random @ matrix_range"
   ]
  },
  {
   "cell_type": "code",
   "execution_count": 60,
   "metadata": {},
   "outputs": [
    {
     "data": {
      "text/plain": [
       "array([[0, 3, 6],\n",
       "       [1, 4, 7],\n",
       "       [2, 5, 8]])"
      ]
     },
     "execution_count": 60,
     "metadata": {},
     "output_type": "execute_result"
    }
   ],
   "source": [
    "#transposing a matrix\n",
    "matrix_range.T"
   ]
  },
  {
   "cell_type": "markdown",
   "metadata": {},
   "source": [
    "#### Numpy mathematical functions\n",
    "\n",
    "The options you have to operate in the arrays are quite comprehensive. If you take a look at the list [here](https://docs.scipy.org/doc/numpy/reference/routines.math.html) you will realize how vast the functions are (but if you want to go more general [here](https://docs.scipy.org/doc/numpy/reference/routines.html) are all the functions in numpy). In this challenge we basically make use of two famous functions the `np.exp` and the `np.log` to calculate the exponetial and natural logarithmic functions of each element in our array\n"
   ]
  },
  {
   "cell_type": "code",
   "execution_count": 62,
   "metadata": {},
   "outputs": [
    {
     "name": "stdout",
     "output_type": "stream",
     "text": [
      "[ 2.71828183  7.3890561  20.08553692]\n"
     ]
    }
   ],
   "source": [
    "exp = np.exp(vector_list)\n",
    "print(exp)"
   ]
  },
  {
   "cell_type": "code",
   "execution_count": 63,
   "metadata": {},
   "outputs": [
    {
     "data": {
      "text/plain": [
       "array([1., 2., 3.])"
      ]
     },
     "execution_count": 63,
     "metadata": {},
     "output_type": "execute_result"
    }
   ],
   "source": [
    "np.log(exp)"
   ]
  },
  {
   "cell_type": "markdown",
   "metadata": {},
   "source": [
    "### Tips, tricks and final remarks\n",
    "\n",
    "And that is as simple as that! This is all you need to successfully complete lesson 2 in the challenge! and is also a good way to understand some of the functions in pytorch that you will be using in further lessons\n",
    "\n",
    "If you are using jupyter, colab or ipython it is useful to note that it provides the handy-dandy \"autocomplete\". So if you forget what methods you have access to in numpy just type `np.`and then press the \"tab\" key to see what are the options that you have. You can as for help in the form of docstrings as well, the only thing you have to do is type `np.exp?` and follow by enter to access the documentation.\n",
    "\n",
    "Finally, *Don't panic* this might be a little overwhelming for some people but **everything** can be mastered with practice.\n",
    "\n",
    "I hope everyone to have an enriching experience during this course and that we all end up being experts in Deep Learning!\n",
    "\n",
    "P.S If you have a suggestion or I made a mistake or typo somewhere here I encourage you to make "
   ]
  }
 ],
 "metadata": {
  "kernelspec": {
   "display_name": "Python 3",
   "language": "python",
   "name": "python3"
  },
  "language_info": {
   "codemirror_mode": {
    "name": "ipython",
    "version": 3
   },
   "file_extension": ".py",
   "mimetype": "text/x-python",
   "name": "python",
   "nbconvert_exporter": "python",
   "pygments_lexer": "ipython3",
   "version": "3.6.7"
  }
 },
 "nbformat": 4,
 "nbformat_minor": 2
}
